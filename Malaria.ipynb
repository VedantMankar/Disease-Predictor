{
 "cells": [
  {
   "cell_type": "code",
   "execution_count": 15,
   "metadata": {},
   "outputs": [],
   "source": [
    "import numpy as np\n",
    "import pandas as pd\n",
    "import pickle\n",
    "import matplotlib.pyplot as plt\n",
    "%matplotlib inline\n",
    "from keras.layers import Dense,Dropout\n",
    "from keras.models import Sequential\n",
    "from keras.layers import Conv2D,MaxPool2D\n",
    "from keras.layers import BatchNormalization\n",
    "from keras.metrics import accuracy,AUC\n",
    "import os\n",
    "from PIL import Image\n",
    "import cv2"
   ]
  },
  {
   "cell_type": "code",
   "execution_count": 12,
   "metadata": {},
   "outputs": [
    {
     "name": "stdout",
     "output_type": "stream",
     "text": [
      "['Parasitized', 'Uninfected']\n"
     ]
    }
   ],
   "source": [
    "print(os.listdir(\"./cell_images/\"))"
   ]
  },
  {
   "cell_type": "code",
   "execution_count": 11,
   "metadata": {},
   "outputs": [
    {
     "name": "stdout",
     "output_type": "stream",
     "text": [
      "Number of Parasitized images: 13780\n"
     ]
    }
   ],
   "source": [
    "print(\"Number of Parasitized images:\",len(os.listdir(\"./cell_images/Parasitized/\")))"
   ]
  },
  {
   "cell_type": "code",
   "execution_count": 10,
   "metadata": {},
   "outputs": [
    {
     "name": "stdout",
     "output_type": "stream",
     "text": [
      "Number of Uninfected images:  13780\n"
     ]
    }
   ],
   "source": [
    "print(\"Number of Uninfected images: \",len(os.listdir(\"./cell_images/Uninfected/\")))"
   ]
  },
  {
   "cell_type": "code",
   "execution_count": 13,
   "metadata": {},
   "outputs": [],
   "source": [
    "infected = os.listdir(\"./cell_images/Parasitized/\")\n",
    "uninfected = os.listdir(\"./cell_images/Uninfected\")"
   ]
  },
  {
   "cell_type": "code",
   "execution_count": null,
   "metadata": {},
   "outputs": [],
   "source": [
    "data = []\n",
    "labels = []\n",
    "\n",
    "for i in infected:\n",
    "    try:\n",
    "        image = cv2.imread(\"./cell_images/Parasitized/\"+i)\n",
    "        image_array = Image.fromarray(image,'RGB')\n",
    "        resize_img = image_array.resize((50,50))\n",
    "        rotated45 = resize_img.rotate(45)\n",
    "        rotated75 = resize_img.rotate(75)\n",
    "        blur = cv2.blur(np.array(resize_img) ,(10,10))\n",
    "        data.append(np.array(resize_img))\n",
    "        data.append(np.array(rotated45))\n",
    "        data.append(np.array(rotated75))\n",
    "        data.append(np.array(blur))\n",
    "        labels.append(1)\n",
    "        labels.append(1)\n",
    "        labels.append(1)\n",
    "        labels.append(1)\n",
    "    except AttributeError:\n",
    "        print(\"\")\n",
    "        \n",
    "for u in uninfected:\n",
    "    try:\n",
    "        image = cv2.imread(\"./cell_images/Uninfected/\"+u)\n",
    "        image_array = Image.fromarray(image , 'RGB')\n",
    "        resize_img = image_array.resize((50 , 50))\n",
    "        rotated45 = resize_img.rotate(45)\n",
    "        rotated75 = resize_img.rotate(75)\n",
    "        data.append(np.array(resize_img))\n",
    "        data.append(np.array(rotated45))\n",
    "        data.append(np.array(rotated75))\n",
    "        labels.append(0)\n",
    "        labels.append(0)\n",
    "        labels.append(0)\n",
    "        \n",
    "    except AttributeError:\n",
    "        print('')"
   ]
  },
  {
   "cell_type": "code",
   "execution_count": null,
   "metadata": {},
   "outputs": [],
   "source": []
  },
  {
   "cell_type": "code",
   "execution_count": null,
   "metadata": {},
   "outputs": [],
   "source": []
  },
  {
   "cell_type": "code",
   "execution_count": null,
   "metadata": {},
   "outputs": [],
   "source": []
  },
  {
   "cell_type": "code",
   "execution_count": null,
   "metadata": {},
   "outputs": [],
   "source": []
  }
 ],
 "metadata": {
  "kernelspec": {
   "display_name": "Python 3.7.0 64-bit",
   "language": "python",
   "name": "python37064bitd5c354a75e274c67afd4a204c6f8c755"
  },
  "language_info": {
   "codemirror_mode": {
    "name": "ipython",
    "version": 3
   },
   "file_extension": ".py",
   "mimetype": "text/x-python",
   "name": "python",
   "nbconvert_exporter": "python",
   "pygments_lexer": "ipython3",
   "version": "3.7.0"
  }
 },
 "nbformat": 4,
 "nbformat_minor": 4
}
